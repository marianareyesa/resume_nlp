{
 "cells": [
  {
   "cell_type": "code",
   "execution_count": 28,
   "metadata": {},
   "outputs": [],
   "source": [
    "import pandas as pd\n",
    "import pandas as pd\n",
    "import spacy \n",
    "#TODO: !pip3 install spacy\n",
    "#TODO: !python3 -m spacy download en_core_web_sm\n",
    "from sklearn.metrics.pairwise import cosine_similarity\n",
    "import re"
   ]
  },
  {
   "cell_type": "code",
   "execution_count": 29,
   "metadata": {},
   "outputs": [
    {
     "data": {
      "text/html": [
       "<div>\n",
       "<style scoped>\n",
       "    .dataframe tbody tr th:only-of-type {\n",
       "        vertical-align: middle;\n",
       "    }\n",
       "\n",
       "    .dataframe tbody tr th {\n",
       "        vertical-align: top;\n",
       "    }\n",
       "\n",
       "    .dataframe thead th {\n",
       "        text-align: right;\n",
       "    }\n",
       "</style>\n",
       "<table border=\"1\" class=\"dataframe\">\n",
       "  <thead>\n",
       "    <tr style=\"text-align: right;\">\n",
       "      <th></th>\n",
       "      <th>Category</th>\n",
       "      <th>Resume</th>\n",
       "    </tr>\n",
       "  </thead>\n",
       "  <tbody>\n",
       "    <tr>\n",
       "      <th>0</th>\n",
       "      <td>Data Science</td>\n",
       "      <td>Skills * Programming Languages: Python (pandas...</td>\n",
       "    </tr>\n",
       "    <tr>\n",
       "      <th>1</th>\n",
       "      <td>Data Science</td>\n",
       "      <td>Education Details \\r\\nMay 2013 to May 2017 B.E...</td>\n",
       "    </tr>\n",
       "    <tr>\n",
       "      <th>2</th>\n",
       "      <td>Data Science</td>\n",
       "      <td>Areas of Interest Deep Learning, Control Syste...</td>\n",
       "    </tr>\n",
       "    <tr>\n",
       "      <th>3</th>\n",
       "      <td>Data Science</td>\n",
       "      <td>Skills â¢ R â¢ Python â¢ SAP HANA â¢ Table...</td>\n",
       "    </tr>\n",
       "    <tr>\n",
       "      <th>4</th>\n",
       "      <td>Data Science</td>\n",
       "      <td>Education Details \\r\\n MCA   YMCAUST,  Faridab...</td>\n",
       "    </tr>\n",
       "  </tbody>\n",
       "</table>\n",
       "</div>"
      ],
      "text/plain": [
       "       Category                                             Resume\n",
       "0  Data Science  Skills * Programming Languages: Python (pandas...\n",
       "1  Data Science  Education Details \\r\\nMay 2013 to May 2017 B.E...\n",
       "2  Data Science  Areas of Interest Deep Learning, Control Syste...\n",
       "3  Data Science  Skills â¢ R â¢ Python â¢ SAP HANA â¢ Table...\n",
       "4  Data Science  Education Details \\r\\n MCA   YMCAUST,  Faridab..."
      ]
     },
     "execution_count": 29,
     "metadata": {},
     "output_type": "execute_result"
    }
   ],
   "source": [
    "#Reading the csv\n",
    "csv_file_path = 'UpdatedResumeDataSet.csv'\n",
    "resumes_df = pd.read_csv(csv_file_path)\n",
    "resumes_df.head()"
   ]
  },
  {
   "cell_type": "code",
   "execution_count": 30,
   "metadata": {},
   "outputs": [
    {
     "name": "stdout",
     "output_type": "stream",
     "text": [
      "<class 'pandas.core.frame.DataFrame'>\n",
      "RangeIndex: 962 entries, 0 to 961\n",
      "Data columns (total 2 columns):\n",
      " #   Column    Non-Null Count  Dtype \n",
      "---  ------    --------------  ----- \n",
      " 0   Category  962 non-null    object\n",
      " 1   Resume    962 non-null    object\n",
      "dtypes: object(2)\n",
      "memory usage: 15.2+ KB\n"
     ]
    }
   ],
   "source": [
    "#analyzing data\n",
    "resumes_df.info()"
   ]
  },
  {
   "cell_type": "code",
   "execution_count": 31,
   "metadata": {},
   "outputs": [
    {
     "name": "stdout",
     "output_type": "stream",
     "text": [
      "['Data Science' 'HR' 'Advocate' 'Arts' 'Web Designing'\n",
      " 'Mechanical Engineer' 'Sales' 'Health and fitness' 'Civil Engineer'\n",
      " 'Java Developer' 'Business Analyst' 'SAP Developer' 'Automation Testing'\n",
      " 'Electrical Engineering' 'Operations Manager' 'Python Developer'\n",
      " 'DevOps Engineer' 'Network Security Engineer' 'PMO' 'Database' 'Hadoop'\n",
      " 'ETL Developer' 'DotNet Developer' 'Blockchain' 'Testing']\n"
     ]
    }
   ],
   "source": [
    "#looking at possible values for the category column\n",
    "unique_classes = resumes_df['Category'].unique()\n",
    "print(unique_classes)"
   ]
  },
  {
   "cell_type": "code",
   "execution_count": 32,
   "metadata": {},
   "outputs": [],
   "source": [
    "# Load pre-trained English tokenizer, tagger, parser, NER, and word vectors\n",
    "nlp = spacy.load(\"en_core_web_sm\")\n",
    "\n",
    "def preprocess_text(text):\n",
    "    # Remove non-alphanumeric characters and extra whitespaces\n",
    "    text = re.sub(r'[^a-zA-Z0-9\\s]', '', text)\n",
    "    \n",
    "    # Tokenize text and remove stop words\n",
    "    doc = nlp(text)\n",
    "    tokens = [token.text.lower() for token in doc if not token.is_stop and not token.is_punct]\n",
    "    return \" \".join(tokens)\n",
    "\n",
    "def screen_resumes(job_description, category, resumes_df, top_n=10):\n",
    "    # Filter resumes by category\n",
    "    category_resumes = resumes_df[resumes_df['Category'] == category].copy()  # Make a copy to avoid modifying the original DataFrame\n",
    "    \n",
    "    # Preprocess job description and category resumes\n",
    "    job_description_processed = preprocess_text(job_description)\n",
    "    category_resumes['Resume_Processed'] = category_resumes['Resume'].apply(preprocess_text)\n",
    "    \n",
    "    # Calculate word embeddings for job description\n",
    "    job_description_embedding = nlp(job_description_processed).vector\n",
    "    \n",
    "    # Calculate word embeddings for resumes and calculate cosine similarity\n",
    "    similarities = []\n",
    "    for resume_text in category_resumes['Resume_Processed']:\n",
    "        resume_embedding = nlp(resume_text).vector\n",
    "        similarity = cosine_similarity([job_description_embedding], [resume_embedding])[0][0]\n",
    "        similarities.append(similarity)\n",
    "    \n",
    "    # Add cosine similarity scores to dataframe using .loc\n",
    "    category_resumes.loc[:, 'Similarity'] = similarities\n",
    "    \n",
    "    # Sort resumes by similarity and select top n\n",
    "    top_resumes = category_resumes.sort_values(by='Similarity', ascending=False).head(top_n)\n",
    "    \n",
    "    return top_resumes\n"
   ]
  },
  {
   "cell_type": "code",
   "execution_count": 33,
   "metadata": {},
   "outputs": [],
   "source": [
    "# Example job description and category\n",
    "job_description = \"We are looking for a data scientist proficient in Python, machine learning, and data visualization.\"\n",
    "category = \"Data Science\""
   ]
  },
  {
   "cell_type": "code",
   "execution_count": 34,
   "metadata": {},
   "outputs": [
    {
     "data": {
      "text/html": [
       "<div>\n",
       "<style scoped>\n",
       "    .dataframe tbody tr th:only-of-type {\n",
       "        vertical-align: middle;\n",
       "    }\n",
       "\n",
       "    .dataframe tbody tr th {\n",
       "        vertical-align: top;\n",
       "    }\n",
       "\n",
       "    .dataframe thead th {\n",
       "        text-align: right;\n",
       "    }\n",
       "</style>\n",
       "<table border=\"1\" class=\"dataframe\">\n",
       "  <thead>\n",
       "    <tr style=\"text-align: right;\">\n",
       "      <th></th>\n",
       "      <th>Category</th>\n",
       "      <th>Resume</th>\n",
       "      <th>Resume_Processed</th>\n",
       "      <th>Similarity</th>\n",
       "    </tr>\n",
       "  </thead>\n",
       "  <tbody>\n",
       "    <tr>\n",
       "      <th>0</th>\n",
       "      <td>Data Science</td>\n",
       "      <td>Skills * Programming Languages: Python (pandas...</td>\n",
       "      <td>skills   programming languages python pandas n...</td>\n",
       "      <td>0.826909</td>\n",
       "    </tr>\n",
       "    <tr>\n",
       "      <th>10</th>\n",
       "      <td>Data Science</td>\n",
       "      <td>Skills * Programming Languages: Python (pandas...</td>\n",
       "      <td>skills   programming languages python pandas n...</td>\n",
       "      <td>0.826909</td>\n",
       "    </tr>\n",
       "    <tr>\n",
       "      <th>30</th>\n",
       "      <td>Data Science</td>\n",
       "      <td>Skills * Programming Languages: Python (pandas...</td>\n",
       "      <td>skills   programming languages python pandas n...</td>\n",
       "      <td>0.826909</td>\n",
       "    </tr>\n",
       "    <tr>\n",
       "      <th>20</th>\n",
       "      <td>Data Science</td>\n",
       "      <td>Skills * Programming Languages: Python (pandas...</td>\n",
       "      <td>skills   programming languages python pandas n...</td>\n",
       "      <td>0.826909</td>\n",
       "    </tr>\n",
       "    <tr>\n",
       "      <th>18</th>\n",
       "      <td>Data Science</td>\n",
       "      <td>Personal Skills â¢ Ability to quickly grasp t...</td>\n",
       "      <td>personal skills   ability quickly grasp techni...</td>\n",
       "      <td>0.795275</td>\n",
       "    </tr>\n",
       "    <tr>\n",
       "      <th>38</th>\n",
       "      <td>Data Science</td>\n",
       "      <td>Personal Skills â¢ Ability to quickly grasp t...</td>\n",
       "      <td>personal skills   ability quickly grasp techni...</td>\n",
       "      <td>0.795275</td>\n",
       "    </tr>\n",
       "    <tr>\n",
       "      <th>8</th>\n",
       "      <td>Data Science</td>\n",
       "      <td>Personal Skills â¢ Ability to quickly grasp t...</td>\n",
       "      <td>personal skills   ability quickly grasp techni...</td>\n",
       "      <td>0.795275</td>\n",
       "    </tr>\n",
       "    <tr>\n",
       "      <th>28</th>\n",
       "      <td>Data Science</td>\n",
       "      <td>Personal Skills â¢ Ability to quickly grasp t...</td>\n",
       "      <td>personal skills   ability quickly grasp techni...</td>\n",
       "      <td>0.795275</td>\n",
       "    </tr>\n",
       "    <tr>\n",
       "      <th>39</th>\n",
       "      <td>Data Science</td>\n",
       "      <td>Expertise â Data and Quantitative Analysis â...</td>\n",
       "      <td>expertise   data quantitative analysis   decis...</td>\n",
       "      <td>0.780576</td>\n",
       "    </tr>\n",
       "    <tr>\n",
       "      <th>9</th>\n",
       "      <td>Data Science</td>\n",
       "      <td>Expertise â Data and Quantitative Analysis â...</td>\n",
       "      <td>expertise   data quantitative analysis   decis...</td>\n",
       "      <td>0.780576</td>\n",
       "    </tr>\n",
       "  </tbody>\n",
       "</table>\n",
       "</div>"
      ],
      "text/plain": [
       "        Category                                             Resume  \\\n",
       "0   Data Science  Skills * Programming Languages: Python (pandas...   \n",
       "10  Data Science  Skills * Programming Languages: Python (pandas...   \n",
       "30  Data Science  Skills * Programming Languages: Python (pandas...   \n",
       "20  Data Science  Skills * Programming Languages: Python (pandas...   \n",
       "18  Data Science  Personal Skills â¢ Ability to quickly grasp t...   \n",
       "38  Data Science  Personal Skills â¢ Ability to quickly grasp t...   \n",
       "8   Data Science  Personal Skills â¢ Ability to quickly grasp t...   \n",
       "28  Data Science  Personal Skills â¢ Ability to quickly grasp t...   \n",
       "39  Data Science  Expertise â Data and Quantitative Analysis â...   \n",
       "9   Data Science  Expertise â Data and Quantitative Analysis â...   \n",
       "\n",
       "                                     Resume_Processed  Similarity  \n",
       "0   skills   programming languages python pandas n...    0.826909  \n",
       "10  skills   programming languages python pandas n...    0.826909  \n",
       "30  skills   programming languages python pandas n...    0.826909  \n",
       "20  skills   programming languages python pandas n...    0.826909  \n",
       "18  personal skills   ability quickly grasp techni...    0.795275  \n",
       "38  personal skills   ability quickly grasp techni...    0.795275  \n",
       "8   personal skills   ability quickly grasp techni...    0.795275  \n",
       "28  personal skills   ability quickly grasp techni...    0.795275  \n",
       "39  expertise   data quantitative analysis   decis...    0.780576  \n",
       "9   expertise   data quantitative analysis   decis...    0.780576  "
      ]
     },
     "execution_count": 34,
     "metadata": {},
     "output_type": "execute_result"
    }
   ],
   "source": [
    "# Screen resumes for the job description and category\n",
    "top_resumes = screen_resumes(job_description, category, resumes_df)\n",
    "top_resumes"
   ]
  },
  {
   "cell_type": "code",
   "execution_count": null,
   "metadata": {},
   "outputs": [],
   "source": []
  }
 ],
 "metadata": {
  "kernelspec": {
   "display_name": "Python 3",
   "language": "python",
   "name": "python3"
  },
  "language_info": {
   "codemirror_mode": {
    "name": "ipython",
    "version": 3
   },
   "file_extension": ".py",
   "mimetype": "text/x-python",
   "name": "python",
   "nbconvert_exporter": "python",
   "pygments_lexer": "ipython3",
   "version": "3.12.3"
  }
 },
 "nbformat": 4,
 "nbformat_minor": 2
}
